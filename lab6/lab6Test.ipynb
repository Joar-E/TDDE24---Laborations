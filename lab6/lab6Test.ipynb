{
 "cells": [
  {
   "cell_type": "code",
   "execution_count": null,
   "metadata": {},
   "outputs": [],
   "source": [
    "n = int(input())\n",
    "    res = 1\n",
    "    while n > 0:\n",
    "    res *= n\n",
    "    n -= 1\n",
    "    print(res)\n",
    "\n",
    "['calc',\n",
    "    ['read', 'n'],\n",
    "    ['set', 'res', 1],\n",
    "    ['while', ['n', '>', 0],\n",
    "        ['set', 'res', ['res', '*', 'n']],\n",
    "        ['set', 'n', ['n', '-', 1]]],\n",
    "    ['print', 'res']]\n",
    "\n",
    "hejehj"
   ]
  },
  {
   "cell_type": "code",
   "execution_count": null,
   "metadata": {},
   "outputs": [],
   "source": [
    "from calc import *\n",
    "\n",
    "stmt = ['print', [4, '+', 5]]\n",
    "\n",
    "#print(is_output(stmt))\n",
    "#output_expression(stmt)"
   ]
  }
 ],
 "metadata": {
  "kernelspec": {
   "display_name": "Python 3.9.5 64-bit",
   "language": "python",
   "name": "python3"
  },
  "language_info": {
   "codemirror_mode": {
    "name": "ipython",
    "version": 3
   },
   "file_extension": ".py",
   "mimetype": "text/x-python",
   "name": "python",
   "nbconvert_exporter": "python",
   "pygments_lexer": "ipython3",
   "version": "3.9.5"
  },
  "orig_nbformat": 4,
  "vscode": {
   "interpreter": {
    "hash": "f9f85f796d01129d0dd105a088854619f454435301f6ffec2fea96ecbd9be4ac"
   }
  }
 },
 "nbformat": 4,
 "nbformat_minor": 2
}
