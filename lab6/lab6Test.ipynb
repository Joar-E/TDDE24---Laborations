{
 "cells": [
  {
   "cell_type": "code",
   "execution_count": null,
   "metadata": {},
   "outputs": [],
   "source": [
    "n = int(input())\n",
    "    res = 1\n",
    "    while n > 0:\n",
    "    res *= n\n",
    "    n -= 1\n",
    "    print(res)\n",
    "\n",
    "['calc',\n",
    "    ['read', 'n'],\n",
    "    ['set', 'res', 1],\n",
    "    ['while', ['n', '>', 0],\n",
    "        ['set', 'res', ['res', '*', 'n']],\n",
    "        ['set', 'n', ['n', '-', 1]]],\n",
    "    ['print', 'res']]\n",
    "\n",
    "hejehj"
   ]
  }
 ],
 "metadata": {
  "kernelspec": {
   "display_name": "Python 3.10.8 64-bit (microsoft store)",
   "language": "python",
   "name": "python3"
  },
  "language_info": {
   "name": "python",
   "version": "3.10.8"
  },
  "orig_nbformat": 4,
  "vscode": {
   "interpreter": {
    "hash": "4deb986f3ce6d39d52ae36d5b72d27b1f73a8b6b686c07859b235a0545bfc1d1"
   }
  }
 },
 "nbformat": 4,
 "nbformat_minor": 2
}
